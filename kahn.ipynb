{
 "cells": [
  {
   "cell_type": "code",
   "execution_count": 1,
   "metadata": {},
   "outputs": [],
   "source": [
    "dic = {\n",
    "    0: [],\n",
    "    1: [],\n",
    "    2: [3],\n",
    "    3: [1],\n",
    "    4: [0, 1],\n",
    "    5: [0, 2]\n",
    "}\n"
   ]
  },
  {
   "cell_type": "code",
   "execution_count": 5,
   "metadata": {},
   "outputs": [
    {
     "name": "stdout",
     "output_type": "stream",
     "text": [
      "2\n"
     ]
    }
   ],
   "source": [
    "c =0\n",
    "for i in range(6):\n",
    "    c+= dic[i].count(0)\n",
    "\n",
    "print(c)"
   ]
  },
  {
   "cell_type": "code",
   "execution_count": 12,
   "metadata": {},
   "outputs": [],
   "source": [
    "def khans(graph: dict, V: int):\n",
    "    inDeg = [0] * V\n",
    "    for node in graph:\n",
    "        for adjNode in graph[node]:\n",
    "            inDeg[adjNode] += 1\n",
    "    print('IndDEGS', inDeg)\n",
    "    # make a quwuwu\n",
    "    queue = list()\n",
    "    for n,items in enumerate(inDeg):\n",
    "        if items== 0:\n",
    "            queue.append(n)\n",
    "    order = []\n",
    "    while queue:\n",
    "        u = queue.pop(0)\n",
    "        order.append(u)\n",
    "\n",
    "        for adjNode in graph[u]:\n",
    "            inDeg[adjNode]-=1\n",
    "            if inDeg[adjNode] == 0:\n",
    "                queue.append(adjNode)\n",
    "\n",
    "    print(order)\n",
    "\n"
   ]
  },
  {
   "cell_type": "code",
   "execution_count": 13,
   "metadata": {},
   "outputs": [
    {
     "name": "stdout",
     "output_type": "stream",
     "text": [
      "IndDEGS [2, 2, 1, 1, 0, 0]\n",
      "[4, 5, 0, 2, 3, 1]\n"
     ]
    }
   ],
   "source": [
    "khans(dic,6)"
   ]
  },
  {
   "cell_type": "code",
   "execution_count": null,
   "metadata": {},
   "outputs": [],
   "source": []
  }
 ],
 "metadata": {
  "kernelspec": {
   "display_name": "Python 3",
   "language": "python",
   "name": "python3"
  },
  "language_info": {
   "codemirror_mode": {
    "name": "ipython",
    "version": 3
   },
   "file_extension": ".py",
   "mimetype": "text/x-python",
   "name": "python",
   "nbconvert_exporter": "python",
   "pygments_lexer": "ipython3",
   "version": "3.10.6"
  },
  "orig_nbformat": 4
 },
 "nbformat": 4,
 "nbformat_minor": 2
}
